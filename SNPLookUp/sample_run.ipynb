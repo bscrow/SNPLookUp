{
 "cells": [
  {
   "cell_type": "code",
   "execution_count": 3,
   "metadata": {},
   "outputs": [],
   "source": [
    "# Imports the SNPLookUp package\n",
    "from main import *"
   ]
  },
  {
   "cell_type": "code",
   "execution_count": 4,
   "metadata": {},
   "outputs": [
    {
     "name": "stdout",
     "output_type": "stream",
     "text": [
      "Initialising...\tExcluding unwanted regions...\n",
      "Done!\n",
      "Creating QueryRegions...\tDone!\n",
      "Retrieving SNPs...\n",
      "Retrieving SNPs from Chromosome 1...\n"
     ]
    },
    {
     "name": "stderr",
     "output_type": "stream",
     "text": [
      "49557487it [03:06, 266321.22it/s]\n"
     ]
    },
    {
     "name": "stdout",
     "output_type": "stream",
     "text": [
      "Chromosome 1 done!\n",
      "Saving query to text...\tSaved!\n",
      "Done!\n"
     ]
    }
   ],
   "source": [
    "# query(query_file, exclude_regions=True, version=\"hg19\", save_to_txt=False, dir_name=\"raw_query_output\")\n",
    "#     \"\"\"Runs the initial query of regions in the query bed file.\n",
    "\n",
    "#     Converts each input region of interest into a QueryRegion object, which\n",
    "#     contains information about valid sub-regions of interest and SNPs in the\n",
    "#     region.\n",
    "\n",
    "#     Args:\n",
    "#         query_file: Either a string containing the path to a .bed query file,\n",
    "#             or a list in the format of:\n",
    "#              [ [\"chr1\", start_pos, end_pos, label],\n",
    "#                [\"chr5\", start_pos, end_pos, label], ... ].\n",
    "#         exclude_regions: Boolean. If True, regions listed in .bed files in the\n",
    "#             /excluded_regions folder will be excluded from the query.\n",
    "#             (default: True)\n",
    "#         version: String. States the genome version of the input chromosomal\n",
    "#             positions. (default: \"hg19\")\n",
    "#         save_to_txt: Boolean. If True, saves each query as a text file in\n",
    "#             output/dir_name/{query.label}.txt. (default: False)\n",
    "#         dir_name: String that sets the name of the directory to save the\n",
    "#             output to. (default: \"raw_query_output\")\n",
    "\n",
    "#     Returns:\n",
    "#         A dictionary in the format of chromosome_number:list of QueryRegions.\n",
    "#         For example:\n",
    "\n",
    "#         {\"1\": [<QueryRegion>, <QueryRegion>],\n",
    "#          \"2\": [<QueryRegion>, <QueryRegion>, <QueryRegion>],\n",
    "#          \"X\": [<QueryRegion>]}\n",
    "\n",
    "#     Raises:\n",
    "#         ParseException: Invalid input in query_file.\n",
    "#     \"\"\"\n",
    "# Sample Usage:\n",
    "test_query = query(\"..//test//test_query.bed\", save_to_txt=True)"
   ]
  },
  {
   "cell_type": "code",
   "execution_count": null,
   "metadata": {},
   "outputs": [
    {
     "name": "stdout",
     "output_type": "stream",
     "text": [
      "Filtering snps...\n",
      "Filtering by gmaf of 0.45...\tDone!\n",
      "Filtering by LD of 0.2...\n",
      "Retrieving ldmatrix for a total of 1522 SNPs in chr1 test...\n",
      "\n",
      "Retrieving LDMatrix for SNPs 0-900\n"
     ]
    }
   ],
   "source": [
    "# def snp_filter(query_region, ldmatrix_access_token, gmaf, r2, max_number_of_snps, save_to_txt=False,\n",
    "#                dirname=\"filter_output_all\"):\n",
    "\n",
    "#     \"\"\"Filters the SNPs in the input QueryRegions.\n",
    "\n",
    "#     This is a composite function that filters for gmaf, ld and max_number.\n",
    "#     Function composes of snp_filter_by_gmaf(), snp_filter_by_ld(), and\n",
    "#     snp_filter_by_maxnum().\n",
    "\n",
    "#     Args:\n",
    "#         query_region. Either a list or dictionary of QueryRegion objects.\n",
    "#         ldmatrix_access_token. String token required to access the ldmatrix api\n",
    "#             via requests\n",
    "#         gmaf. Float between 0.3 - 0.5. Minimum gmaf that SNPs in the\n",
    "#             QueryRegions must have.\n",
    "#         r2. Float between 0 and 1. Maximum linkage disequilibrium measured in\n",
    "#             terms of r^2 value between any two SNPs in each Query Region.\n",
    "#         max_number_of_snps. Int capping the maximum number of SNPs in each\n",
    "#             region.\n",
    "#         save_to_txt. Boolean. If True, saves each query as a text file in\n",
    "#             output/dir_name/{query.label}.txt. (default: False)\n",
    "#         dir_name. String that sets the name of the directory to save the output\n",
    "#             to. (default: \"filter_output_all\")\n",
    "\n",
    "#     Returns:\n",
    "#         A dictionary in the format of chromosome_number:list of QueryRegions.\n",
    "#         For example:\n",
    "\n",
    "#         {\"1\": [<QueryRegion>, <QueryRegion>],\n",
    "#          \"2\": [<QueryRegion>, <QueryRegion>, <QueryRegion>],\n",
    "#          \"X\": [<QueryRegion>]}\n",
    "#     \"\"\"\n",
    "\n",
    "# Sample Usage:\n",
    "filtered_test_query = snp_filter(test_query, \"0ff4d1fb247c\", 0.45, 0.2, 50, save_to_txt=True)\n",
    "\n",
    "\n",
    "filtered_test_query1 = snp_filter_by_ld(snp_filter_by_gmaf(test_query, 0.45, save_to_txt=False), \"0ff4d1fb247c\", 0.2, save_to_txt=True)"
   ]
  },
  {
   "cell_type": "code",
   "execution_count": null,
   "metadata": {},
   "outputs": [],
   "source": [
    "# snp_filter_by_gmaf(query_region, gmaf, save_to_txt=False, dirname=\"filter_output_gmaf\")\n",
    "\n",
    "#     \"\"\"Filters the SNPs in the input QueryRegions based on the gmaf.\n",
    "\n",
    "#     Filters the SNPs found within each input QueryRegion object by a global\n",
    "#     minor allele frequency cutoff defined by the user.\n",
    "\n",
    "#     Args:\n",
    "#         query_region: Either a list or dictionary of QueryRegion objects.\n",
    "#         gmaf: Float between 0.3 - 0.5. Minimum gmaf that SNPs in the\n",
    "#             QueryRegions must have.\n",
    "#         save_to_txt: Boolean. If True, saves each query as a text file in\n",
    "#             output/dir_name/{query.label}.txt. (default: False)\n",
    "#         dirname: String that sets the name of the directory to save the output\n",
    "#             to. (default: \"filter_output_gmaf\")\n",
    "\n",
    "#     Returns:\n",
    "#         A dictionary in the format of chromosome_number:list of QueryRegions\n",
    "#         consisting of all the input QueryRegions after filtering the list of\n",
    "#         SNPs they contain. For example:\n",
    "\n",
    "#         {\"1\": [<QueryRegion>, <QueryRegion>],\n",
    "#          \"2\": [<QueryRegion>, <QueryRegion>, <QueryRegion>],\n",
    "#          \"X\": [<QueryRegion>]}\n",
    "#     \"\"\"\n",
    "\n",
    "# Sample Usage:\n",
    "# filtered_test_query_gmaf = snp_filter_by_gmaf(test_query, 0.45, save_to_txt=True)\n",
    "\n",
    "\n",
    "\n",
    "\n",
    "# snp_filter_by_ld(query_region, ldmatrix_access_token, r2, save_to_txt=False, dirname=\"filter_output_ld\")\n",
    "\n",
    "#     \"\"\"Filters the SNPs in the input QueryRegions based on ld.\n",
    "\n",
    "#     Filters the SNPs found within each input QueryRegion object based on their\n",
    "#     pairwise linkage disequilibrium (LD), measured in terms of r^2 value. It is\n",
    "#     guaranteed that after filtering, the LD between any two SNPs in each\n",
    "#     QueryRegion does not exceed the LD cutoff. Pairwise LD data is retrieved\n",
    "#     from LDMatrix web service at https://ldlink.nci.nih.gov/?tab=ldmatrix.\n",
    "\n",
    "#     Args:\n",
    "#         query_region: Either a list or dictionary of QueryRegion objects.\n",
    "#         ldmatrix_access_token: String token required to access the ldmatrix api\n",
    "#             via requests\n",
    "#         r2: Float between 0 and 1. Maximum linkage disequilibrium measured in\n",
    "#             terms of r^2 value between any two SNPs in each Query Region.\n",
    "#         save_to_txt: Boolean. If True, saves each query as a text file in\n",
    "#             output/dir_name/{query.label}.txt. (default: False)\n",
    "#         dirname: String that sets the name of the directory to save the output\n",
    "#             to. (default: \"filter_output_ld\")\n",
    "\n",
    "#     Returns:\n",
    "#         A dictionary in the format of chromosome_number:list of QueryRegions\n",
    "#         consisting of all the input QueryRegions after filtering the list of\n",
    "#         SNPs they contain. For example:\n",
    "\n",
    "#         {\"1\": [<QueryRegion>, <QueryRegion>],\n",
    "#          \"2\": [<QueryRegion>, <QueryRegion>, <QueryRegion>],\n",
    "#          \"X\": [<QueryRegion>]}\n",
    "#     \"\"\"\n",
    "\n",
    "# Sample Usage:\n",
    "filtered_test_query_ld = snp_filter_by_ld(test_query, \"0ff4d1fb247c\", 0.2, save_to_txt=True)\n",
    "\n",
    "\n",
    "\n",
    "\n",
    "# snp_filter_by_max_number(query_region, max_number_of_snps, save_to_txt=False, dirname=\"filter_output_maxnum\")\n",
    "\n",
    "#     \"\"\"Filters the SNPs in the input QueryRegions by a maximum number.\n",
    "\n",
    "#     Filters the SNPs in the input QueryRegions, capping number of SNPs to\n",
    "#     max_number. This program tries to select SNPs evenly in each QueryRegion\n",
    "#     to keep, such that the SNPs remaining are spread apart as evenly as\n",
    "#     possible within the QueryRegion.\n",
    "\n",
    "#     Args:\n",
    "#         query_region: Either a list or dictionary of QueryRegion objects\n",
    "#         max_number_of_snps: Int capping the maximum number of SNPs in each\n",
    "#             region.\n",
    "#         save_to_txt: Boolean. If True, saves each query as a text file in\n",
    "#             output/dir_name/{query.label}.txt. (default: False)\n",
    "#         dirname: String that sets the name of the directory to save the output\n",
    "#             to. (default: \"filter_output_maxnum\")\n",
    "\n",
    "#     Returns:\n",
    "#         A dictionary in the format of chromosome_number:list of QueryRegions\n",
    "#         consisting of all the input QueryRegions after filtering the list of\n",
    "#         SNPs they contain. For example:\n",
    "\n",
    "#         {\"1\": [<QueryRegion>, <QueryRegion>],\n",
    "#          \"2\": [<QueryRegion>, <QueryRegion>, <QueryRegion>],\n",
    "#          \"X\": [<QueryRegion>]}\n",
    "#     \"\"\"\n",
    "\n",
    "# Sample Usage:\n",
    "# filtered_test_query_maxnum = snp_filter_by_max_number(test_query, 50, save_to_txt=True)"
   ]
  },
  {
   "cell_type": "code",
   "execution_count": 2,
   "metadata": {},
   "outputs": [
    {
     "ename": "NameError",
     "evalue": "name 'visualise' is not defined",
     "output_type": "error",
     "traceback": [
      "\u001b[1;31m---------------------------------------------------------------------------\u001b[0m",
      "\u001b[1;31mNameError\u001b[0m                                 Traceback (most recent call last)",
      "\u001b[1;32m<ipython-input-2-dfc5d06063d4>\u001b[0m in \u001b[0;36m<module>\u001b[1;34m\u001b[0m\n\u001b[0;32m     14\u001b[0m \u001b[1;33m\u001b[0m\u001b[0m\n\u001b[0;32m     15\u001b[0m \u001b[1;31m# Sample Usage:\u001b[0m\u001b[1;33m\u001b[0m\u001b[1;33m\u001b[0m\u001b[0m\n\u001b[1;32m---> 16\u001b[1;33m \u001b[0mvisualise\u001b[0m\u001b[1;33m(\u001b[0m\u001b[0mfiltered_test_query_ld\u001b[0m\u001b[1;33m)\u001b[0m\u001b[1;33m\u001b[0m\u001b[0m\n\u001b[0m",
      "\u001b[1;31mNameError\u001b[0m: name 'visualise' is not defined"
     ]
    }
   ],
   "source": [
    "# visualise(query_region, save_to_jpeg=False, filename=\"visualisation\")\n",
    "#     \"\"\"Visualises the number of SNPs in each QueryRegion.\n",
    "\n",
    "#     Generates a bar plot, which plots the number of SNPs against each\n",
    "#     QueryRegion object in the input.\n",
    "\n",
    "#     Args:\n",
    "#        query_region: Either a list or dictionary of QueryRegion objects\n",
    "#        save_to_jpeg: Boolean. If True, saves the bar plot generated in\n",
    "#            output/visualisation/filename.jpeg. (default: False)\n",
    "#        filename: String that sets the name of the file to save the figure.\n",
    "#            (default: \"visualisation\")\n",
    "#     \"\"\"\n",
    "# Sample Usage:\n",
    "visualise(filtered_test_query_ld)"
   ]
  },
  {
   "cell_type": "code",
   "execution_count": 6,
   "metadata": {},
   "outputs": [
    {
     "name": "stdout",
     "output_type": "stream",
     "text": [
      "Saving query as Design Studio input...\tDone!\n",
      "Queries saved in ..\\output\\input_for_design_studio\n"
     ]
    }
   ],
   "source": [
    "# save_for_design_studio(queryregions_by_chromosome, file_name = \"input\", dir_name = \"input_for_design_studio\")\n",
    "\n",
    "#     \"\"\"Saves QueryRegions and Snps contained.\n",
    "\n",
    "#     Saves the input QueryRegions into a .bed file and a .csv file that qre\n",
    "#     compatible as inputs to Illumina's Design Studio.\n",
    "\n",
    "#     Args:\n",
    "#         queryregions_by_chromosome: Either a list or dictionary of QueryRegion\n",
    "#             objects.\n",
    "#         file_name: String that sets the name of the .bed and .csv files.\n",
    "#             (default: \"input\")\n",
    "#         dir_name: String that sets the name of the directory to save the\n",
    "#             output to. (default: \"input_for_design_studio\")\n",
    "#     \"\"\"\n",
    "\n",
    "# Sample Usage:\n",
    "save_for_design_studio(filtered_test_query, file_name=\"test_query\")"
   ]
  },
  {
   "cell_type": "code",
   "execution_count": 6,
   "metadata": {},
   "outputs": [
    {
     "name": "stdout",
     "output_type": "stream",
     "text": [
      "{'1': [<query_objects.QueryRegion object at 0x0000026F8D95CCC0>, <query_objects.QueryRegion object at 0x0000026F8D95CE80>, <query_objects.QueryRegion object at 0x0000026F8D999B00>]}\n"
     ]
    }
   ],
   "source": [
    "print(test_query)"
   ]
  },
  {
   "cell_type": "code",
   "execution_count": null,
   "metadata": {},
   "outputs": [],
   "source": []
  }
 ],
 "metadata": {
  "kernelspec": {
   "display_name": "Python 3",
   "language": "python",
   "name": "python3"
  },
  "language_info": {
   "codemirror_mode": {
    "name": "ipython",
    "version": 3
   },
   "file_extension": ".py",
   "mimetype": "text/x-python",
   "name": "python",
   "nbconvert_exporter": "python",
   "pygments_lexer": "ipython3",
   "version": "3.7.0"
  }
 },
 "nbformat": 4,
 "nbformat_minor": 4
}
