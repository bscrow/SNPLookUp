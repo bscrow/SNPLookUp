{
 "cells": [
  {
   "cell_type": "code",
   "execution_count": 1,
   "metadata": {},
   "outputs": [],
   "source": [
    "# Imports the SNPLookUp package\n",
    "from main import *"
   ]
  },
  {
   "cell_type": "code",
   "execution_count": 2,
   "metadata": {},
   "outputs": [
    {
     "name": "stdout",
     "output_type": "stream",
     "text": [
      "Initialising...\tExcluding unwanted regions...\n",
      "Done!\n",
      "Creating QueryRegions...\tDone!\n",
      "Retrieving SNPs...\n",
      "Retrieving SNPs from Chromosome 1...\n"
     ]
    },
    {
     "name": "stderr",
     "output_type": "stream",
     "text": [
      "49557487it [03:08, 262594.69it/s]\n"
     ]
    },
    {
     "name": "stdout",
     "output_type": "stream",
     "text": [
      "Chromosome 1 done!\n",
      "Saving query to text...\tSaved!\n",
      "Done!\n"
     ]
    }
   ],
   "source": [
    "# query(query_file, exclude_regions=True, version=\"hg19\", save_to_txt=False, dir_name=\"raw_query_output\")\n",
    "# Runs the initial query of regions in the query bed file. \n",
    "\n",
    "# Params:\n",
    "#    - query_file. Either a string containing the path to a .bed query file, or \n",
    "#          a list in the format of [ [\"chr1\", start_pos, end_pos, label], ... ].\n",
    "#    - exclude_regions. Boolean. If True, regions listed in .bed files in the /excluded_regions \n",
    "#          folder will be excluded from the query. (default: True)\n",
    "#    - version. String. States the genome version of the input chromosomal positions. \n",
    "#          (default: \"hg19\")\n",
    "#    - save_to_txt. Boolean. If True, saves each query as a text file in \n",
    "#          output/dir_name/{query.label}.txt. (default: False)\n",
    "#    - dir_name. String that sets the name of the directory to save the output to. \n",
    "#          (default: \"raw_query_output\")\n",
    "\n",
    "# Returns a dictionary in the format of chromosome_number:list of QueryRegions\n",
    "# i.e. {\"1\": [QueryRegion, ...], \"2\": []}\n",
    "\n",
    "# Sample Usage:\n",
    "test_query = query(\"..//test//test_query.bed\", save_to_txt=True)"
   ]
  },
  {
   "cell_type": "code",
   "execution_count": 3,
   "metadata": {},
   "outputs": [
    {
     "name": "stdout",
     "output_type": "stream",
     "text": [
      "Filtering snps...\n",
      "Filtering by gmaf of 0.45...\tDone!\n",
      "Filtering by LD of 0.2...\n",
      "Retrieving ldmatrix for a total of 1522 SNPs in chr1 test...\n",
      "\n",
      "Retrieving LDMatrix for SNPs 0-900\n",
      "Retrieving LDMatrix for SNPs 450-1350\n",
      "Retrieving ldmatrix for a total of 126 SNPs in chr1 test...\n",
      "\n",
      "Retrieving ldmatrix for a total of 112 SNPs in chr1 test again...\n",
      "\n",
      "Done!\n",
      "Filtering by max 50 number of snps...\tDone!\n"
     ]
    }
   ],
   "source": [
    "# def snp_filter(query_region, ldmatrix_access_token, gmaf, r2, max_number_of_snps, save_to_txt=False,\n",
    "#                dirname=\"filter_output_all\"):\n",
    "\n",
    "# Filters the SNPs in the input query of regions based on the gmaf, ld and max_number. \n",
    "# Composite function of snp_filter_by_gmaf(), snp_filter_by_ld(), snp_filter_by_maxnum()\n",
    "\n",
    "# Params:\n",
    "#    - query_region. Either a list or dictionary of QueryRegion objects.\n",
    "#    - ldmatrix_access_token. String token required to access the ldmatrix api cia requests\n",
    "#    - gmaf. Float between 0.3 - 0.5. Minimum gmaf that SNPs in the QueryRegions must have.\n",
    "#    - r2. Float between 0 and 1. Maximum linkage disequilibrium measured in terms of r^2 value \n",
    "#          between any two SNPs in each Query Region\n",
    "#    - max_number_of_snps. Int capping the maximum number of SNPs in each region\n",
    "#    - save_to_txt. Boolean. If True, saves each query as a text file in \n",
    "#          output/dir_name/{query.label}.txt. (default: False)\n",
    "#    - dir_name. String that sets the name of the directory to save the output to. \n",
    "#          (default: \"filter_output_all\")\n",
    "\n",
    "# Returns a dictionary in the format of chromosome_number:list of QueryRegions\n",
    "# i.e. {\"1\": [QueryRegion, ...], \"2\": []}\n",
    "\n",
    "# Sample Usage:\n",
    "filtered_test_query = snp_filter(test_query, \"0ff4d1fb247c\", 0.45, 0.2, 50, save_to_txt=True)\n",
    "\n",
    "\n",
    "filtered_test_query1 = snp_filter_by_ld(snp_filter_by_gmaf(test_query, 0.45, save_to_txt=False), \"0ff4d1fb247c\", 0.2, save_to_txt=True)"
   ]
  },
  {
   "cell_type": "code",
   "execution_count": null,
   "metadata": {},
   "outputs": [],
   "source": [
    "# snp_filter_by_gmaf(query_region, gmaf, save_to_txt=False, dirname=\"filter_output_gmaf\")\n",
    "\n",
    "# Filters the SNPs in the input query of regions based on the gmaf. \n",
    "\n",
    "# Params:\n",
    "#    - query_region. Either a list or dictionary of QueryRegion objects.\n",
    "#    - gmaf. Float between 0.3 - 0.5. Minimum gmaf that SNPs in the QueryRegions must have.\n",
    "#    - save_to_txt. Boolean. If True, saves each query as a text file in \n",
    "#          output/dir_name/{query.label}.txt. (default: False)\n",
    "#    - dir_name. String that sets the name of the directory to save the output to. \n",
    "#          (default: \"filter_output_gmaf\")\n",
    "\n",
    "# Returns a dictionary in the format of chromosome_number:list of QueryRegions\n",
    "# i.e. {\"1\": [QueryRegion, ...], \"2\": []}\n",
    "\n",
    "# Sample Usage:\n",
    "# filtered_test_query_gmaf = snp_filter_by_gmaf(test_query, 0.45, save_to_txt=True)\n",
    "\n",
    "\n",
    "\n",
    "\n",
    "# snp_filter_by_ld(query_region, ldmatrix_access_token, r2, save_to_txt=False, dirname=\"filter_output_ld\")\n",
    "\n",
    "# Filters the SNPs in the input query of regions based on. \n",
    "\n",
    "# Params:\n",
    "#    - query_region. Either a list or dictionary of QueryRegion objects.\n",
    "#    - ldmatrix_access_token. String token required to access the ldmatrix api cia requests\n",
    "#    - r2. Float between 0 and 1. Maximum linkage disequilibrium measured in terms of r^2 value \n",
    "#          between any two SNPs in each Query Region\n",
    "#    - save_to_txt. Boolean. If True, saves each query as a text file in \n",
    "#          output/dir_name/{query.label}.txt. (default: False)\n",
    "#    - dir_name. String that sets the name of the directory to save the output to. \n",
    "#          (default: \"filter_output_ld\")\n",
    "\n",
    "# Returns a dictionary in the format of chromosome_number:list of QueryRegions\n",
    "# i.e. {\"1\": [QueryRegion, ...], \"2\": []}\n",
    "\n",
    "# Sample Usage:\n",
    "filtered_test_query_ld = snp_filter_by_ld(test_query, \"0ff4d1fb247c\", 0.2, save_to_txt=True)\n",
    "\n",
    "\n",
    "\n",
    "\n",
    "# snp_filter_by_max_number(query_region, max_number_of_snps, save_to_txt=False, dirname=\"filter_output_maxnum\")\n",
    "\n",
    "# Filters the SNPs in the input query of regions, capping number of SNPs to max_number. This program tries \n",
    "# to select SNPs evenly in each QueryRegion to keep.\n",
    "\n",
    "# Params:\n",
    "#    - query_region. Either a list or dictionary of QueryRegion objects\n",
    "#    - max_number_of_snps. Int capping the maximum number of SNPs in each region\n",
    "#    - save_to_txt. Boolean. If True, saves each query as a text file in \n",
    "#          output/dir_name/{query.label}.txt. (default: False)\n",
    "#    - dir_name. String that sets the name of the directory to save the output to. \n",
    "#          (default: \"filter_output_maxnum\")\n",
    "\n",
    "# Returns a dictionary in the format of chromosome_number:list of QueryRegions\n",
    "# i.e. {\"1\": [QueryRegion, ...], \"2\": []}\n",
    "\n",
    "# Sample Usage:\n",
    "# filtered_test_query_maxnum = snp_filter_by_max_number(test_query, 50, save_to_txt=True)"
   ]
  },
  {
   "cell_type": "code",
   "execution_count": 4,
   "metadata": {},
   "outputs": [
    {
     "data": {
      "image/png": "[encoded data removed]",
      "text/plain": [
       "<Figure size 432x720 with 1 Axes>"
      ]
     },
     "metadata": {
      "needs_background": "light"
     },
     "output_type": "display_data"
    }
   ],
   "source": [
    "# visualise(query_region, save_to_jpeg=False, filename=\"visualisation\")\n",
    "\n",
    "# Visualises the number of SNPs in each QueryRegion\n",
    "\n",
    "# Params:\n",
    "#    - query_region. Either a list or dictionary of QueryRegion objects\n",
    "#    - save_to_jpeg. Boolean. If True, saves each query as a text file in \n",
    "#          output/visualisation/filename.jpeg. (default: False)\n",
    "#    - filename. String that sets the name of the file to save the figure. \n",
    "#          (default: \"filter_output_maxnum\")\n",
    "\n",
    "# Returns None\n",
    "\n",
    "# Sample Usage:\n",
    "visualise(filtered_test_query_ld)"
   ]
  },
  {
   "cell_type": "code",
   "execution_count": 6,
   "metadata": {},
   "outputs": [
    {
     "name": "stdout",
     "output_type": "stream",
     "text": [
      "Saving query as Design Studio input...\tDone!\n",
      "Queries saved in ..\\output\\input_for_design_studio\n"
     ]
    }
   ],
   "source": [
    "# save_for_design_studio(queryregions_by_chromosome, file_name = \"input\", dir_name = \"input_for_design_studio\")\n",
    "\n",
    "# Saves the input QueryRegions into a .bed file and a .csv file that can be uploaded as input to Design Studio.\n",
    "\n",
    "# Params:\n",
    "#    - query_region. Either a list or dictionary of QueryRegion objects\n",
    "#    - file_name. String that sets the name of the .bed and .csv files. (default: \"input\")\n",
    "#    - dir_name. String that sets the name of the directory to save the output to. \n",
    "#          (default: \"input_for_design_studio\")\n",
    "\n",
    "# Returns None\n",
    "\n",
    "# Sample Usage:\n",
    "save_for_design_studio(filtered_test_query, file_name=\"test_query\")"
   ]
  },
  {
   "cell_type": "code",
   "execution_count": 6,
   "metadata": {},
   "outputs": [
    {
     "name": "stdout",
     "output_type": "stream",
     "text": [
      "{'1': [<query_objects.QueryRegion object at 0x0000026F8D95CCC0>, <query_objects.QueryRegion object at 0x0000026F8D95CE80>, <query_objects.QueryRegion object at 0x0000026F8D999B00>]}\n"
     ]
    }
   ],
   "source": [
    "print(test_query)"
   ]
  },
  {
   "cell_type": "code",
   "execution_count": null,
   "metadata": {},
   "outputs": [],
   "source": []
  }
 ],
 "metadata": {
  "kernelspec": {
   "display_name": "Python 3",
   "language": "python",
   "name": "python3"
  },
  "language_info": {
   "codemirror_mode": {
    "name": "ipython",
    "version": 3
   },
   "file_extension": ".py",
   "mimetype": "text/x-python",
   "name": "python",
   "nbconvert_exporter": "python",
   "pygments_lexer": "ipython3",
   "version": "3.7.0"
  }
 },
 "nbformat": 4,
 "nbformat_minor": 4
}
